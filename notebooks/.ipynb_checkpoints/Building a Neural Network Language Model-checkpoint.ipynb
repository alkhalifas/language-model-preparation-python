{
 "cells": [
  {
   "cell_type": "markdown",
   "metadata": {},
   "source": [
    "# Building a Neural Network Language Model:"
   ]
  },
  {
   "cell_type": "markdown",
   "metadata": {},
   "source": [
    "### Recent advances in deep learning have shown remarkable performance in many different NLP tasks such as:\n",
    "- Text Generation\n",
    "- Text Summarization\n",
    "- Machine Translation\n",
    "- Text Classification\n",
    "\n",
    "### There are two main types of Neural Network Language Models:\n",
    "- Character Level (this tutorial)\n",
    "- Word Level"
   ]
  },
  {
   "cell_type": "markdown",
   "metadata": {},
   "source": [
    "#### We can begin by importing a few libraries of interest:"
   ]
  },
  {
   "cell_type": "code",
   "execution_count": 1,
   "metadata": {},
   "outputs": [],
   "source": [
    "import numpy as np\n",
    "import pandas as pd\n",
    "import re\n",
    "\n",
    "from tensorflow.keras.callbacks import EarlyStopping\n",
    "from tensorflow.keras.utils import to_categorical\n",
    "from keras.preprocessing.sequence import pad_sequences\n",
    "from keras.models import Sequential\n",
    "from keras.layers import LSTM, Dense, GRU, Embedding\n",
    "from keras.callbacks import EarlyStopping, ModelCheckpoint\n",
    "\n",
    "from sklearn.model_selection import train_test_split"
   ]
  },
  {
   "cell_type": "code",
   "execution_count": 2,
   "metadata": {
    "jupyter": {
     "source_hidden": true
    },
    "tags": []
   },
   "outputs": [],
   "source": [
    "raw_text = \"\"\"\n",
    "When Mr. Bilbo Baggins of Bag End announced that he would shortly be celebrating his eleventy-first birthday with a party of special magnificence, there was much talk and excitement in Hobbiton.\n",
    "\n",
    "Bilbo was very rich and very peculiar, and had been the wonder of the Shire for sixty years, ever since his remarkable disappearance and unexpected return. The riches he had brought back from his travels had now become a local legend, and it was popularly believed, whatever the old folk might say, that the Hill at Bag End was full of tunnels stuffed with treasure. And if that was not enough for fame, there was also his prolonged vigour to marvel at. Time wore on, but it seemed to have little effect on Mr. Baggins. At ninety he was much the same as at fifty. At ninety-nine they began to call him well-preserved, but unchanged would have been nearer the mark. There were some that shook their heads and thought this was too much of a good thing; it seemed unfair that anyone should possess (apparently) perpetual youth as well as (reputedly) inexhaustible wealth.\n",
    "\n",
    "‘It will have to be paid for,’ they said. ‘It isn’t natural, and trouble will come of it!’\n",
    "\n",
    "But so far trouble had not come; and as Mr. Baggins was generous with his money, most people were willing to forgive him his oddities and his good fortune. He remained on visiting terms with his relatives (except, of course, the Sackville-Bagginses), and he had many devoted admirers among the hobbits of poor and unimportant families. But he had no close friends, until some of his younger cousins began to grow up.\n",
    "\n",
    "The eldest of these, and Bilbo’s favourite, was young Frodo Baggins. When Bilbo was ninety-nine, he adopted Frodo as his heir, and brought him to live at Bag End; and the hopes of the Sackville-Bagginses were finally dashed. Bilbo and Frodo happened to have the same birthday, September 22nd. ‘You had better come and live here, Frodo my lad,’ said Bilbo one day; ‘and then we can celebrate our birthday-parties comfortably together.’ At that time Frodo was still in his tweens, as the hobbits called the irresponsible twenties between childhood and coming of age at thirty-three.\n",
    "\n",
    "Twelve more years passed. Each year the Bagginses had given very lively combined birthday-parties at Bag End; but now it was understood that something quite exceptional was being planned for that autumn. Bilbo was going to be eleventy-one, 111, a rather curious number and a very respectable age for a hobbit (the Old Took himself had only reached 130); and Frodo was going to be thirty-three, 33) an important number: the date of his ‘coming of age’.\n",
    "\n",
    "Tongues began to wag in Hobbiton and Bywater; and rumour of the coming event travelled all over the Shire. The history and character of Mr. Bilbo Baggins became once again the chief topic of conversation; and the older folk suddenly found their reminiscences in welcome demand.\n",
    "\n",
    "No one had a more attentive audience than old Ham Gamgee, commonly known as the Gaffer. He held forth at The Ivy Bush, a small inn on the Bywater road; and he spoke with some authority, for he had tended the garden at Bag End for forty years, and had helped old Holman in the same job before that. Now that he was himself growing old and stiff in the joints, the job was mainly carried on by his youngest son, Sam Gamgee. Both father and son were on very friendly terms with Bilbo and Frodo. They lived on the Hill itself, in Number 3 Bagshot Row just below Bag End.\n",
    "\n",
    "‘A very nice well-spoken gentlehobbit is Mr. Bilbo, as I’ve always said,’ the Gaffer declared. With perfect truth: for Bilbo was very polite to him, calling him ‘Master Hamfast’, and consulting him constantly upon the growing of vegetables - in the matter of ‘roots’, especially potatoes, the Gaffer was recognized as the leading authority by all in the neighbourhood (including himself).\n",
    "\n",
    "‘But what about this Frodo that lives with him?’ asked Old Noakes of Bywater. ‘Baggins is his name, but he’s more than half a Brandybuck, they say. It beats me why any Baggins of Hobbiton should go looking for a wife away there in Buckland, where folks are so queer.’\n",
    "\n",
    "‘And no wonder they’re queer,’ put in Daddy Twofoot (the Gaffer’s next-door neighbour), ‘if they live on the wrong side of the Brandywine River, and right agin the Old Forest. That’s a dark bad place, if half the tales be true.’\n",
    "\n",
    "‘You’re right, Dad!’ said the Gaffer. ‘Not that the Brandybucks of Buck-land live in the Old Forest; but they’re a queer breed, seemingly. They fool about with boats on that big river - and that isn’t natural. Small wonder that trouble came of it, I say. But be that as it may, Mr. Frodo is as nice a young hobbit as you could wish to meet. Very much like Mr. Bilbo, and in more than looks. After all his father was a Baggins. A decent respectable hobbit was Mr. Drogo Baggins; there was never much to tell of him, till he was drownded.’\n",
    "\n",
    "‘Drownded?’ said several voices. They had heard this and other darker rumours before, of course; but hobbits have a passion for family history, and they were ready to hear it again. ‘Well, so they say,’ said the Gaffer. ‘You see: Mr. Drogo, he married poor Miss Primula Brandybuck. She was our Mr. Bilbo’s first cousin on the mother’s side (her mother being the youngest of the Old Took’s daughters); and Mr. Drogo was his second cousin. So Mr. Frodo is his first and second cousin, once removed either way, as the saying is, if you follow me. And Mr. Drogo was staying at Brandy Hall with his father-in-law, old Master Gorbadoc, as he often did after his marriage (him being partial to his vittles, and old Gorbadoc keeping a mighty generous table); and he went out boating on the Brandywine River; and he and his wife were drownded, and poor Mr. Frodo only a child and all. ‘\n",
    "\n",
    "‘I’ve heard they went on the water after dinner in the moonlight,’ said Old Noakes; ‘and it was Drogo’s weight as sunk the boat.’\n",
    "\n",
    "‘And I heard she pushed him in, and he pulled her in after him,’ said Sandyman, the Hobbiton miller.\n",
    "\n",
    "‘You shouldn’t listen to all you hear, Sandyman,’ said the Gaffer, who did not much like the miller. ‘There isn’t no call to go talking of pushing and pulling. Boats are quite tricky enough for those that sit still without looking further for the cause of trouble. Anyway: there was this Mr. Frodo left an orphan and stranded, as you might say, among those queer Bucklanders, being brought up anyhow in Brandy Hall. A regular warren, by all accounts. Old Master Gorbadoc never had fewer than a couple of hundred relations in the place. Mr. Bilbo never did a kinder deed than when he brought the lad back to live among decent folk.\n",
    "\n",
    "‘But I reckon it was a nasty shock for those Sackville-Bagginses. They thought they were going to get Bag End, that time when he went off and was thought to be dead. And then he comes back and orders them off; and he goes on living and living, and never looking a day older, bless him! And suddenly he produces an heir, and has all the papers made out proper. The Sackville-Bagginses won’t never see the inside of Bag End now, or it is to be hoped not.’\n",
    "\n",
    "‘There’s a tidy bit of money tucked away up there, I hear tell,’ said a stranger, a visitor on business from Michel Delving in the Westfarthing. ‘All the top of your hill is full of tunnels packed with chests of gold and silver, and jools, by what I’ve heard. ‘\n",
    "\n",
    "‘Then you’ve heard more than I can speak to,’ answered the Gaffer. I know nothing about jools. Mr. Bilbo is free with his money, and there seems no lack of it; but I know of no tunnel-making. I saw Mr. Bilbo when he came back, a matter of sixty years ago, when I was a lad. I’d not long come prentice to old Holman (him being my dad’s cousin), but he had me up at Bag End helping him to keep folks from trampling and trapessing all over the garden while the sale was on. And in the middle of it all Mr. Bilbo comes up the Hill with a pony and some mighty big bags and a couple of chests. I don’t doubt they were mostly full of treasure he had picked up in foreign parts, where there be mountains of gold, they say; but there wasn’t enough to fill tunnels. But my lad Sam will know more about that. He’s in and out of Bag End. Crazy about stories of the old days he is, and he listens to all Mr. Bilbo’s tales. Mr. Bilbo has learned him his letters - meaning no harm, mark you, and I hope no harm will come of it.\n",
    "\n",
    "‘Elves and Dragons’ I says to him. ‘Cabbages and potatoes are better for me and you. Don’t go getting mixed up in the business of your betters, or you’ll land in trouble too big for you,’ I says to him. And I might say it to others,’ he added with a look at the stranger and the miller.\n",
    "\n",
    "But the Gaffer did not convince his audience. The legend of Bilbo’s wealth was now too firmly fixed in the minds of the younger generation of hobbits.\n",
    "\n",
    "‘Ah, but he has likely enough been adding to what he brought at first,’ argued the miller, voicing common opinion. ‘He’s often away from home. And look at the outlandish folk that visit him: dwarves coming at night, and that old wandering conjuror, Gandalf, and all. You can say what you like, Gaffer, but Bag End’s a queer place, and its folk are queerer.’\n",
    "\n",
    "‘And you can say what you like, about what you know no more of than you do of boating, Mr. Sandyman,’ retorted the Gaffer, disliking the miller even more than usual. If that’s being queer, then we could do with a bit more queerness in these parts. There’s some not far away that wouldn’t offer a pint of beer to a friend, if they lived in a hole with golden walls. But they do things proper at Bag End. Our Sam says that everyone’s going to be invited to the party, and there’s going to be presents, mark you, presents for all - this very month as is.’\n",
    "\n",
    "That very month was September, and as fine as you could ask. A day or two later a rumour (probably started by the knowledgeable Sam) was spread about that there were going to be fireworks - fireworks, what is more, such as had not been seen in the Shire for nigh on a century, not indeed since the Old Took died.\n",
    "\n",
    "Days passed and The Day drew nearer. An odd-looking waggon laden with odd-looking packages rolled into Hobbiton one evening and toiled up the Hill to Bag End. The startled hobbits peered out of lamplit doors to gape at it. It was driven by outlandish folk, singing strange songs: dwarves with long beards and deep hoods. A few of them remained at Bag End. At the end of the second week in September a cart came in through Bywater from the direction of the Brandywine Bridge in broad daylight. An old man was driving it all alone. He wore a tall pointed blue hat, a long grey cloak, and a silver scarf. He had a long white beard and bushy eyebrows that stuck out beyond the brim of his hat. Small hobbit-children ran after the cart all through Hobbiton and right up the hill. It had a cargo of fireworks, as they rightly guessed. At Bilbo’s front door the old man began to unload: there were great bundles of fireworks of all sorts and shapes, each labelled with a large red G  and the elf-rune, .\n",
    "\n",
    "That was Gandalf’s mark, of course, and the old man was Gandalf the Wizard, whose fame in the Shire was due mainly to his skill with fires, smokes, and lights. His real business was far more difficult and dangerous, but the Shire-folk knew nothing about it. To them he was just one of the ‘attractions’ at the Party. Hence the excitement of the hobbit-children. ‘G for Grand!’ they shouted, and the old man smiled. They knew him by sight, though he only appeared in Hobbiton occasionally and never stopped long; but neither they nor any but the oldest of their elders had seen one of his firework displays - they now belonged to the legendary past.\n",
    "\n",
    "When the old man, helped by Bilbo and some dwarves, had finished unloading. Bilbo gave a few pennies away; but not a single squib or cracker was forthcoming, to the disappointment of the onlookers.\n",
    "\n",
    "‘Run away now!’ said Gandalf. ‘You will get plenty when the time comes.’ Then he disappeared inside with Bilbo, and the door was shut. The young hobbits stared at the door in vain for a while, and then made off, feeling that the day of the party would never come.\n",
    "\n",
    "Inside Bag End, Bilbo and Gandalf were sitting at the open window of a small room looking out west on to the garden. The late afternoon was bright and peaceful. The flowers glowed red and golden: snap-dragons and sun-flowers, and nasturtiums trailing all over the turf walls and peeping in at the round windows.\n",
    "\n",
    "‘How bright your garden looks!’ said Gandalf.\n",
    "\n",
    "‘Yes,’ said Bilbo. I am very fond indeed of it, and of all the dear old Shire; but I think I need a holiday.’\n",
    "\n",
    "‘You mean to go on with your plan then?’\n",
    "\n",
    "‘I do. I made up my mind months ago, and I haven’t changed it.’\n",
    "\n",
    "‘Very well. It is no good saying any more. Stick to your plan - your whole plan, mind - and I hope it will turn out for the best, for you, and for all of us.’\n",
    "\n",
    "‘I hope so. Anyway I mean to enjoy myself on Thursday, and have my little joke.’\n",
    "\n",
    "‘Who will laugh, I wonder?’ said Gandalf, shaking his head.\n",
    "\n",
    "‘We shall see,’ said Bilbo.\n",
    "\n",
    "The next day more carts rolled up the Hill, and still more carts. There might have been some grumbling about ‘dealing locally’, but that very week orders began to pour out of Bag End for every kind of provision, commodity, or luxury that could be obtained in Hobbiton or Bywater or anywhere in the neighbourhood. People became enthusiastic; and they began to tick off the days on the calendar; and they watched eagerly for the postman, hoping for invitations.\n",
    "\n",
    "Before long the invitations began pouring out, and the Hobbiton post-office was blocked, and the Bywater post-office was snowed under, and voluntary assistant postmen were called for. There was a constant stream of them going up the Hill, carrying hundreds of polite variations on Thank you, I shall certainly come.\n",
    "\n",
    "A notice appeared on the gate at Bag End: no admittance except on party business. Even those who had, or pretended to have Party Business were seldom allowed inside. Bilbo was busy: writing invitations, ticking off answers, packing up presents, and making some private preparations of his own. From the time of Gandalf’s arrival he remained hidden from view.\n",
    "\n",
    "One morning the hobbits woke to find the large field, south of Bilbo’s front door, covered with ropes and poles for tents and pavilions. A special entrance was cut into the bank leading to the road, and wide steps and a large white gate were built there. The three hobbit-families of Bagshot Row, adjoining the field, were intensely interested and generally envied. Old Gaffer Gamgee stopped even pretending to work in his garden.\n",
    "\n",
    "The tents began to go up. There was a specially large pavilion, so big that the tree that grew in the field was right inside it, and stood proudly near one end, at the head of the chief table. Lanterns were hung on all its branches. More promising still (to the hobbits’ mind): an enormous open-air kitchen was erected in the north corner of the field. A draught of cooks, from every inn and eating-house for miles around, arrived to supplement the dwarves and other odd folk that were quartered at Bag End. Excitement rose to its height.\n",
    "\n",
    "Then the weather clouded over. That was on Wednesday the eve of the Party. Anxiety was intense. Then Thursday, September the 22nd, actually dawned. The sun got up, the clouds vanished, flags were unfurled and the fun began.\n",
    "\n",
    "Bilbo Baggins called it a party, but it was really a variety of entertainments rolled into one. Practically everybody living near was invited. A very few were overlooked by accident, but as they turned up all the same, that did not matter. Many people from other parts of the Shire were also asked; and there were even a few from outside the borders. Bilbo met the guests (and additions) at the new white gate in person. He gave away presents to all and sundry - the latter were those who went out again by a back way and came in again by the gate. Hobbits give presents to other people on their own birthdays. Not very expensive ones, as a rule, and not so lavishly as on this occasion; but it was not a bad system. Actually in Hobbiton and Bywater every day in the year it was somebody’s birthday, so that every hobbit in those parts had a fair chance of at least one present at least once a week. But they never got tired of them.\n",
    "\n",
    "On this occasion the presents were unusually good. The hobbit-children were so excited that for a while they almost forgot about eating. There were toys the like of which they had never seen before, all beautiful and some obviously magical. Many of them had indeed been ordered a year before, and had come all the way from the Mountain and from Dale, and were of real dwarf-make.\n",
    "\n",
    "When every guest had been welcomed and was finally inside the gate, there were songs, dances, music, games, and, of course, food and drink. There were three official meals: lunch, tea, and dinner (or supper). But lunch and tea were marked chiefly by the fact that at those times all the guests were sitting down and eating together. At other times there were merely lots of people eating and drinking - continuously from elevenses until six-thirty, when the fireworks started.\n",
    "\n",
    "The fireworks were by Gandalf: they were not only brought by him, but designed and made by him; and the special effects, set pieces, and flights of rockets were let off by him. But there was also a generous distribution of squibs, crackers, backarappers, sparklers, torches, dwarf-candles, elf-fountains, goblin-barkers and thunder-claps. They were all superb. The art of Gandalf improved with age.\n",
    "\n",
    "There were rockets like a flight of scintillating birds singing with sweet voices. There were green trees with trunks of dark smoke: their leaves opened like a whole spring unfolding in a moment, and their shining branches dropped glowing flowers down upon the astonished hobbits, disappearing with a sweet scent just before they touched their upturned faces. There were fountains of butterflies that flew glittering into the trees; there were pillars of coloured fires that rose and turned into eagles, or sailing ships, or a phalanx of flying swans; there was a red thunderstorm and a shower of yellow rain; there was a forest of silver spears that sprang suddenly into the air with a yell like an embattled army, and came down again into the Water with a hiss like a hundred hot snakes. And there was also one last surprise, in honour of Bilbo, and it startled the hobbits exceedingly, as Gandalf intended. The lights went out. A great smoke went up. It shaped itself like a mountain seen in the distance, and began to glow at the summit. It spouted green and scarlet flames. Out flew a red-golden dragon - not life-size, but terribly life-like: fire came from his jaws, his eyes glared down; there was a roar, and he whizzed three times over the heads of the crowd. They all ducked, and many fell flat on their faces. The dragon passed like an express train, turned a somersault, and burst over Bywater with a deafening explosion.\n",
    "\n",
    "‘That is the signal for supper!’ said Bilbo. The pain and alarm vanished at once, and the prostrate hobbits leaped to their feet. There was a splendid supper for everyone; for everyone, that is, except those invited to the special family dinner-party. This was held in the great pavilion with the tree. The invitations were limited to twelve dozen (a number also called by the hobbits one Gross, though the word was not considered proper to use of people); and the guests were selected from all the families to which Bilbo and Frodo were related, with the addition of a few special unrelated friends (such as Gandalf). Many young hobbits were included, and present by parental permission; for hobbits were easy-going with their children in the matter of sitting up late, especially when there was a chance of getting them a free meal. Bringing up young hobbits took a lot of provender.\n",
    "\n",
    "There were many Bagginses and Boffins, and also many Tooks and Brandybucks; there were various Grubbs (relations of Bilbo Baggins’ grandmother), and various Chubbs (connexions of his Took grandfather); and a selection of Burrowses, Bolgers, Bracegirdles, Brockhouses, Goodbodies, Hornblowers and Proudfoots. Some of these were only very distantly connected with Bilbo, and some of them had hardly ever been in Hobbiton before, as they lived in remote corners of the Shire. The Sackville-Bagginses were not forgotten. Otho and his wife Lobelia were present. They disliked Bilbo and detested Frodo, but so magnificent was the invitation card, written in golden ink, that they had felt it was impossible to refuse. Besides, their cousin, Bilbo, had been specializing in food for many years and his table had a high reputation.\n",
    "\n",
    "All the one hundred and forty-four guests expected a pleasant feast; though they rather dreaded the after-dinner speech of their host (an inevitable item). He was liable to drag in bits of what he called poetry; and sometimes, after a glass or two, would allude to the absurd adventures of his mysterious journey. The guests were not disappointed: they had a very pleasant feast, in fact an engrossing entertainment: rich, abundant, varied, and prolonged. The purchase of provisions fell almost to nothing throughout the district in the ensuing weeks; but as Bilbo’s catering had depleted the stocks of most stores, cellars and warehouses for miles around, that did not matter much.\n",
    "\n",
    "After the feast (more or less) came the Speech. Most of the company were, however, now in a tolerant mood, at that delightful stage which they called ‘filling up the corners’. They were sipping their favourite drinks, and nibbling at their favourite dainties, and their fears were forgotten. They were prepared to listen to anything, and to cheer at every full stop.\n",
    "\n",
    "My dear People, began Bilbo, rising in his place. ‘Hear! Hear! Hear!’ they shouted, and kept on repeating it in chorus, seeming reluctant to follow their own advice. Bilbo left his place and went and stood on a chair under the illuminated tree. The light of the lanterns fell on his beaming face; the golden buttons shone on his embroidered silk waistcoat. They could all see him standing, waving one hand in the air, the other was in his trouser-pocket.\n",
    "\n",
    "My dear Bagginses and Boffins, he began again; and my dear Tooks and Brandybucks, and Grubbs, and Chubbs, and Burrowses, and Hornblowers, and Bolgers, Bracegirdles, Goodbodies, Brockhouses and Proudfoots. ‘ProudFEET!’ shouted an elderly hobbit from the back of the pavilion. His name, of course, was Proudfoot, and well merited; his feet were large, exceptionally furry, and both were on the table.\n",
    "\n",
    "Proudfoots, repeated Bilbo. Also my good Sackville-Bagginses that I welcome back at last to Bag End. Today is my one hundred and eleventh birthday: I am eleventy-one today! ‘Hurray! Hurray! Many Happy Returns!’ they shouted, and they hammered joyously on the tables. Bilbo was doing splendidly. This was the sort of stuff they liked: short and obvious.\n",
    "\n",
    "/ hope you are all enjoying yourselves as much as I am. Deafening cheers. Cries of Yes (and No). Noises of trumpets and horns, pipes and flutes, and other musical instruments. There were, as has been said, many young hobbits present. Hundreds of musical crackers had been pulled. Most of them bore the mark dale on them; which did not convey much to most of the hobbits, but they all agreed they were marvellous crackers. They contained instruments, small, but of perfect make and enchanting tones. Indeed, in one corner some of the young Tooks and Brandybucks, supposing Uncle Bilbo to have finished (since he had plainly said all that was necessary), now got up an impromptu orchestra, and began a merry dance-tune. Master Everard Took and Miss Melilot Brandybuck got on a table and with bells in their hands began to dance the Springle-ring: a pretty dance, but rather vigorous.\n",
    "\n",
    "But Bilbo had not finished. Seizing a horn from a youngster near by, he blew three loud hoots. The noise subsided. / shall not keep you long, he cried. Cheers from all the assembly. / have called you all together for a Purpose. Something in the way that he said this made an impression. There was almost silence, and one or two of the Tooks pricked up their ears.\n",
    "\n",
    "Indeed, for Three Purposes! First of all, to tell you that I am immensely fond of you all, and that eleventy-one years is too short a time to live among such excellent and admirable hobbits. Tremendous outburst of approval.\n",
    "\n",
    "/ don’t know half of you half as well as I should like; and I like less than half of you half as well as you deserve. This was unexpected and rather difficult. There was some scattered clapping, but most of them were trying to work it out and see if it came to a compliment.\n",
    "\n",
    "Secondly, to celebrate my birthday. Cheers again. / should say: OUR birthday. For it is, of course, also the birthday of my heir and nephew, Frodo. He comes of age and into his inheritance today. Some perfunctory clapping by the elders; and some loud shouts of ‘Frodo! Frodo! Jolly old Frodo,’ from the juniors. The Sackville-Bagginses scowled, and wondered what was meant by ‘coming into his inheritance’. Together we score one hundred and forty-four. Your numbers were chosen to fit this remarkable total: One Gross, if I may use the expression. No cheers. This was ridiculous. Many of his guests, and especially the Sackville-Bagginses, were insulted, feeling sure they had only been asked to fill up the required number, like goods in a package. ‘One Gross, indeed! Vulgar expression.’\n",
    "\n",
    "It is also, if I may be allowed to refer to ancient history, the anniversary of my arrival by barrel at Esgaroth on the Long Lake; though the fact that it was my birthday slipped my memory on that occasion. I was only fifty-one then, and birthdays did not seem so important. The banquet was very splendid, however, though I had a bad cold at the time, I remember, and could only say ‘thag you very buch’. I now repeat it more correctly: Thank you very much for coming to my little party. Obstinate silence. They all feared that a song or some poetry was now imminent; and they were getting bored. Why couldn’t he stop talking and let them drink his health? But Bilbo did not sing or recite. He paused for a moment.\n",
    "\n",
    "Thirdly and finally, he said, I wish to make an ANNOUNCEMENT. He spoke this last word so loudly and suddenly that everyone sat up who still could. I regret to announce that - though, as I said, eleventy-one years is far too short a time to spend among you - this is the END. I am going. I am leaving NOW. GOOD-BYE!\n",
    "\n",
    "He stepped down and vanished. There was a blinding flash of light, and the guests all blinked. When they opened their eyes Bilbo was nowhere to be seen. One hundred and forty-four flabbergasted hobbits sat back speechless. Old Odo Proudfoot removed his feet from the table and stamped. Then there was a dead silence, until suddenly, after several deep breaths, every Baggins, Boffin, Took, Brandybuck, Grubb, Chubb, Burrows, Bolger, Bracegirdle, Brockhouse, Goodbody, Hornblower, and Proudfoot began to talk at once.\n",
    "\n",
    "It was generally agreed that the joke was in very bad taste, and more food and drink were needed to cure the guests of shock and annoyance. ‘He’s mad. I always said so,’ was probably the most popular comment. Even the Tooks (with a few exceptions) thought Bilbo’s behaviour was absurd. For the moment most of them took it for granted that his disappearance was nothing more than a ridiculous prank.\n",
    "\n",
    "But old Rory Brandybuck was not so sure. Neither age nor an enormous dinner had clouded his wits, and he said to his daughter-in-law, Esmeralda: ‘There’s something fishy in this, my dear! I believe that mad Baggins is off again. Silly old fool. But why worry? He hasn’t taken the vittles with him.’ He called loudly to Frodo to send the wine round again.\n",
    "\n",
    "Frodo was the only one present who had said nothing. For some time he had sat silent beside Bilbo’s empty chair, and ignored all remarks and questions. He had enjoyed the joke, of course, even though he had been in the know. He had difficulty in keeping from laughter at the indignant surprise of the guests. But at the same time he felt deeply troubled: he realized suddenly that he loved the old hobbit dearly. Most of the guests went on eating and drinking and discussing Bilbo Baggins’ oddities, past and present; but the Sackville-Bagginses had already departed in wrath. Frodo did not want to have any more to do with the party. He gave orders for more wine to be served; then he got up and drained his own glass silently to the health of Bilbo, and slipped out of the pavilion.\n",
    "\n",
    "As for Bilbo Baggins, even while he was making his speech, he had been fingering the golden ring in his pocket: his magic ring that he had kept secret for so many years. As he stepped down he slipped it on his finger, and he was never seen by any hobbit in Hobbiton again.\n",
    "\n",
    "He walked briskly back to his hole, and stood for a moment listening with a smile to the din in the pavilion and to the sounds of merrymaking in other parts of the field. Then he went in. He took off his party clothes, folded up and wrapped in tissue-paper his embroidered silk waistcoat, and put it away. Then he put on quickly some old untidy garments, and fastened round his waist a worn leather belt. On it he hung a short sword in a battered black-leather scabbard. From a locked drawer, smelling of moth-balls, he took out an old cloak and hood. They had been locked up as if they were very precious, but they were so patched and weatherstained that their original colour could hardly be guessed: it might have been dark green. They were rather too large for him. He then went into his study, and from a large strong-box took out a bundle wrapped in old cloths, and a leather-bound manuscript; and also a large bulky envelope. The book and bundle he stuffed into the top of a heavy bag that was standing there, already nearly full. Into the envelope he slipped his golden ring, and its fine chain, and then sealed it, and addressed it to Frodo. At first he put it on the mantelpiece, but suddenly he removed it and stuck it in his pocket. At that moment the door opened and Gandalf came quickly in.\n",
    "\n",
    "‘Hullo!’ said Bilbo. 'I wondered if you would turn up.’\n",
    "\n",
    "'I am glad to find you visible,’ replied the wizard, sitting down in a chair, 'I wanted to catch you and have a few final words. I suppose you feel that everything has gone off splendidly and according to plan?’\n",
    "\n",
    "‘Yes, I do,’ said Bilbo. \"Though that flash was surprising: it quite startled me, let alone the others. A little addition of your own, I suppose?’\n",
    "\n",
    "It was. You have wisely kept that ring secret all these years, and it seemed to me necessary to give your guests something else that would seem to explain your sudden vanishment.’\n",
    "\n",
    "‘And would spoil my joke. You are an interfering old busybody,’ laughed Bilbo, ‘but I expect you know best, as usual.’\n",
    "\n",
    "‘I do - when I know anything. But I don’t feel too sure about this whole affair. It has now come to the final point. You have had your joke, and alarmed or offended most of your relations, and given the whole Shire something to talk about for nine days, or ninety-nine more likely. Are you going any further?’\n",
    "\n",
    "‘Yes, I am. I feel I need a holiday, a very long holiday, as I have told you before. Probably a permanent holiday: I don’t expect I shall return. In fact, I don’t mean to, and I have made all arrangements.\n",
    "\n",
    "'I am old, Gandalf. I don’t look it, but I am beginning to feel it in my heart of hearts. Well-preserved indeed!’ he snorted. ‘Why, I feel all thin, sort of stretched, if you know what I mean: like butter that has been scraped over too much bread. That can’t be right. I need a change, or something.’\n",
    "\n",
    "Gandalf looked curiously and closely at him. ‘No, it does not seem right,’ he said thoughtfully. ‘No, after all I believe your plan is probably the best.’\n",
    "\n",
    "‘Well, I’ve made up my mind, anyway. I want to see mountains again, Gandalf, mountains, and then find somewhere where I can rest. In peace and quiet, without a lot of relatives prying around, and a string of confounded visitors hanging on the bell. I might find somewhere where I can finish my book. I have thought of a nice ending for it: and he lived happily ever after to the end of his days. ‘\n",
    "\n",
    "Gandalf laughed. I hope he will. But nobody will read the book, however it ends.’\n",
    "\n",
    "‘Oh, they may, in years to come. Frodo has read some already, as far as it has gone. You’ll keep an eye on Frodo, won’t you?’\n",
    "\n",
    "‘Yes, I will - two eyes, as often as I can spare them.’\n",
    "\n",
    "‘He would come with me, of course, if I asked him. In fact he offered to once, just before the party. But he does not really want to, yet. I want to see the wild country again before I die, and the Mountains; but he is still in love with the Shire, with woods and fields and little rivers. He ought to be comfortable here. I am leaving everything to him, of course, except a few oddments. I hope he will be happy, when he gets used to being on his own. It’s time he was his own master now.’\n",
    "\n",
    "‘Everything?’ said Gandalf. ‘The ring as well? You agreed to that, you remember.’\n",
    "\n",
    "‘Well, er, yes, I suppose so,’ stammered Bilbo.\n",
    "\n",
    "‘Where is it?’\n",
    "\"\"\""
   ]
  },
  {
   "cell_type": "markdown",
   "metadata": {},
   "source": [
    "### Cleaning the Raw Data:"
   ]
  },
  {
   "cell_type": "code",
   "execution_count": 3,
   "metadata": {},
   "outputs": [],
   "source": [
    "def text_cleaner(raw_text):\n",
    "    \"\"\" \n",
    "    Cleans raw input text to and returns it\n",
    "    \n",
    "    Takes raw data and converts to lowercase, removes numbers and punctuation\n",
    "    and eliminates words that are less than 3 characters long.\n",
    "    \n",
    "    Parameters:\n",
    "    arg1 (str): Raw text to be cleaned\n",
    "    \n",
    "    Returns:\n",
    "    str: Cleaned form of the text\n",
    "    \"\"\"\n",
    "    # Convert to lower case\n",
    "    text = raw_text.lower()\n",
    "    text = re.sub(r\"'s\\b\",\"\",text)\n",
    "    \n",
    "    # Remove Punctuation and numbers, keep only [a-zA-Z]\n",
    "    text = re.sub(\"[^a-zA-Z]\", \" \", text)\n",
    "    \n",
    "    # Removes words that are less than 3 characters long\n",
    "    long_words=[]\n",
    "    for i in text.split():\n",
    "        if len(i)>=3:                  \n",
    "            long_words.append(i)\n",
    "    return (\" \".join(long_words)).strip()\n",
    "    "
   ]
  },
  {
   "cell_type": "code",
   "execution_count": 4,
   "metadata": {},
   "outputs": [],
   "source": [
    "cleaned_text = text_cleaner(raw_text)"
   ]
  },
  {
   "cell_type": "code",
   "execution_count": 47,
   "metadata": {},
   "outputs": [
    {
     "data": {
      "text/plain": [
       "'when bilbo baggins bag end announced that would shortly celebrating his eleventy first birthday with party special magnificence there was much talk and excitement hobbiton bilbo was very rich and very peculiar and had been the wonder the shire for sixty years ever since his remarkable disappearance and unexpected return the riches had brought back from his travels had now become local legend and was popularly believed whatever the old folk might say that the hill bag end was full tunnels stuffed'"
      ]
     },
     "execution_count": 47,
     "metadata": {},
     "output_type": "execute_result"
    }
   ],
   "source": [
    "cleaned_text[:500]"
   ]
  },
  {
   "cell_type": "markdown",
   "metadata": {},
   "source": [
    "### Splitting Data into Sequences"
   ]
  },
  {
   "cell_type": "code",
   "execution_count": 6,
   "metadata": {},
   "outputs": [],
   "source": [
    "def sequence_generator(text, length):\n",
    "    \"\"\" \n",
    "    Generates sequences from the data\n",
    "    \n",
    "    Generates sequences of strings the given text data by \n",
    "    splitting by the specified length/\n",
    "    \n",
    "    Parameters:\n",
    "    arg1 (str): Raw text to be split into sequences\n",
    "    arg2 (int): The length of each sequence\n",
    "    \n",
    "    Returns:\n",
    "    list: A list of sequences with the given length\n",
    "    \"\"\"\n",
    "    sequences = []\n",
    "    for word in range(length, len(text)):\n",
    "        sequences.append(text[word - length: word + 1])\n",
    "    print('Sequences: %d' % len(sequences))\n",
    "    return sequences"
   ]
  },
  {
   "cell_type": "code",
   "execution_count": 7,
   "metadata": {},
   "outputs": [
    {
     "name": "stdout",
     "output_type": "stream",
     "text": [
      "Sequences: 28453\n"
     ]
    }
   ],
   "source": [
    "sequence_length = 50\n",
    "sequences = sequence_generator(cleaned_text, sequence_length)"
   ]
  },
  {
   "cell_type": "code",
   "execution_count": 8,
   "metadata": {},
   "outputs": [
    {
     "data": {
      "text/plain": [
       "'when bilbo baggins bag end announced that would sho'"
      ]
     },
     "execution_count": 8,
     "metadata": {},
     "output_type": "execute_result"
    }
   ],
   "source": [
    "sequences[0]"
   ]
  },
  {
   "cell_type": "markdown",
   "metadata": {},
   "source": [
    "### Creating a Character Mapping Index:"
   ]
  },
  {
   "cell_type": "code",
   "execution_count": 9,
   "metadata": {},
   "outputs": [
    {
     "name": "stdout",
     "output_type": "stream",
     "text": [
      "[' ', 'a', 'b', 'c', 'd', 'e', 'f', 'g', 'h', 'i', 'j', 'k', 'l', 'm', 'n', 'o', 'p', 'q', 'r', 's', 't', 'u', 'v', 'w', 'x', 'y', 'z']\n"
     ]
    }
   ],
   "source": [
    "# Notice that the numbers and punctuation are gone\n",
    "characters = sorted(list(set(cleaned_text)))\n",
    "print(characters)"
   ]
  },
  {
   "cell_type": "code",
   "execution_count": 10,
   "metadata": {},
   "outputs": [
    {
     "name": "stdout",
     "output_type": "stream",
     "text": [
      "{' ': 0, 'a': 1, 'b': 2, 'c': 3, 'd': 4, 'e': 5, 'f': 6, 'g': 7, 'h': 8, 'i': 9, 'j': 10, 'k': 11, 'l': 12, 'm': 13, 'n': 14, 'o': 15, 'p': 16, 'q': 17, 'r': 18, 's': 19, 't': 20, 'u': 21, 'v': 22, 'w': 23, 'x': 24, 'y': 25, 'z': 26}\n"
     ]
    }
   ],
   "source": [
    "# Map each of the characters to a unique value\n",
    "character_map = dict((c, i) for i, c in enumerate(characters))\n",
    "print(character_map)"
   ]
  },
  {
   "cell_type": "code",
   "execution_count": 11,
   "metadata": {},
   "outputs": [],
   "source": [
    "def sequence_encoder(sequences, character_map):\n",
    "    \"\"\"\n",
    "    Converts text sequences to encoded sequences\n",
    "    \n",
    "    Convers text-based sequences to encoded sequences using\n",
    "    a character map.\n",
    "    \n",
    "    arg1 (str): Raw text sequence to be converted\n",
    "    arg2 (dict): Character map of the corpus\n",
    "    \n",
    "    Returns:\n",
    "    list\n",
    "    \"\"\" \n",
    "    out_sequences = []\n",
    "    for seq in sequences:\n",
    "        enc_sequence = [character_map[character] for character in seq]\n",
    "        out_sequences.append(enc_sequence)\n",
    "    print('Sequences: %d' % len(out_sequences))\n",
    "    return out_sequences"
   ]
  },
  {
   "cell_type": "code",
   "execution_count": 12,
   "metadata": {},
   "outputs": [
    {
     "name": "stdout",
     "output_type": "stream",
     "text": [
      "Sequences: 28453\n"
     ]
    }
   ],
   "source": [
    "# Generate the encoded sequences:\n",
    "enc_sequences = sequence_encoder(sequences, character_map)\n",
    "enc_sequences = np.array(enc_sequences)"
   ]
  },
  {
   "cell_type": "markdown",
   "metadata": {},
   "source": [
    "### Train, Test, and Validation Split:"
   ]
  },
  {
   "cell_type": "code",
   "execution_count": 13,
   "metadata": {},
   "outputs": [],
   "source": [
    "# Define the Vocab Size\n",
    "vocab_size = len(character_map)"
   ]
  },
  {
   "cell_type": "code",
   "execution_count": 14,
   "metadata": {},
   "outputs": [],
   "source": [
    "# Convert the sequences to a numpy array\n",
    "enc_sequences = np.array(enc_sequences)"
   ]
  },
  {
   "cell_type": "code",
   "execution_count": 15,
   "metadata": {},
   "outputs": [],
   "source": [
    "# Split off the X (input) and y (predicted)\n",
    "X, y = enc_sequences[:,:-1], enc_sequences[:,-1]"
   ]
  },
  {
   "cell_type": "code",
   "execution_count": 16,
   "metadata": {},
   "outputs": [
    {
     "data": {
      "text/plain": [
       "array([23,  8,  5, 14,  0,  2,  9, 12,  2, 15,  0,  2,  1,  7,  7,  9, 14,\n",
       "       19,  0,  2,  1,  7,  0,  5, 14,  4,  0,  1, 14, 14, 15, 21, 14,  3,\n",
       "        5,  4,  0, 20,  8,  1, 20,  0, 23, 15, 21, 12,  4,  0, 19,  8, 15])"
      ]
     },
     "execution_count": 16,
     "metadata": {},
     "output_type": "execute_result"
    }
   ],
   "source": [
    "enc_sequences[0]"
   ]
  },
  {
   "cell_type": "code",
   "execution_count": 17,
   "metadata": {},
   "outputs": [
    {
     "data": {
      "text/plain": [
       "array([23,  8,  5, 14,  0,  2,  9, 12,  2, 15,  0,  2,  1,  7,  7,  9, 14,\n",
       "       19,  0,  2,  1,  7,  0,  5, 14,  4,  0,  1, 14, 14, 15, 21, 14,  3,\n",
       "        5,  4,  0, 20,  8,  1, 20,  0, 23, 15, 21, 12,  4,  0, 19,  8])"
      ]
     },
     "execution_count": 17,
     "metadata": {},
     "output_type": "execute_result"
    }
   ],
   "source": [
    "X[0]"
   ]
  },
  {
   "cell_type": "code",
   "execution_count": 18,
   "metadata": {},
   "outputs": [
    {
     "data": {
      "text/plain": [
       "15"
      ]
     },
     "execution_count": 18,
     "metadata": {},
     "output_type": "execute_result"
    }
   ],
   "source": [
    "y[0]"
   ]
  },
  {
   "cell_type": "code",
   "execution_count": 21,
   "metadata": {},
   "outputs": [],
   "source": [
    "# Convert to one-hot-encoded\n",
    "y = to_categorical(y, num_classes=vocab_size)"
   ]
  },
  {
   "cell_type": "code",
   "execution_count": 22,
   "metadata": {},
   "outputs": [
    {
     "data": {
      "text/plain": [
       "array([0., 0., 0., 0., 0., 0., 0., 0., 0., 0., 0., 0., 0., 0., 0., 1., 0.,\n",
       "       0., 0., 0., 0., 0., 0., 0., 0., 0., 0.], dtype=float32)"
      ]
     },
     "execution_count": 22,
     "metadata": {},
     "output_type": "execute_result"
    }
   ],
   "source": [
    "y[0]"
   ]
  },
  {
   "cell_type": "code",
   "execution_count": 23,
   "metadata": {},
   "outputs": [
    {
     "name": "stdout",
     "output_type": "stream",
     "text": [
      "Training Data shape: (25607, 50) 90.0 % \n",
      "Validation Data shape: (2846, 50) 10.0 %\n"
     ]
    }
   ],
   "source": [
    "# Create Train and Validation Data Sets\n",
    "X_tr, X_val, y_tr, y_val = train_test_split(X, y, test_size=0.1, random_state=42)\n",
    "\n",
    "print('Training Data shape:', X_tr.shape, round(X_tr.shape[0] / (X_tr.shape[0]+X_val.shape[0]),4)*100, \"%\" , \n",
    "      '\\nValidation Data shape:', X_val.shape, round(X_val.shape[0] / (X_tr.shape[0]+X_val.shape[0]),4)*100, \"%\")"
   ]
  },
  {
   "cell_type": "markdown",
   "metadata": {},
   "source": [
    "### Train the model and monitor via MLFlow"
   ]
  },
  {
   "cell_type": "code",
   "execution_count": 24,
   "metadata": {},
   "outputs": [],
   "source": [
    "import mlflow"
   ]
  },
  {
   "cell_type": "code",
   "execution_count": 31,
   "metadata": {},
   "outputs": [
    {
     "name": "stderr",
     "output_type": "stream",
     "text": [
      "2022/02/24 08:34:33 WARNING mlflow.utils.autologging_utils: You are using an unsupported version of keras. If you encounter errors during autologging, try upgrading / downgrading keras to a supported version, or try upgrading MLflow.\n",
      "2022/02/24 08:34:34 INFO mlflow.utils.autologging_utils: Created MLflow autologging run with ID 'cacb462c107c436f9c8038643d958d45', which will track hyperparameters, performance metrics, model artifacts, and lineage information for the current keras workflow\n"
     ]
    },
    {
     "name": "stdout",
     "output_type": "stream",
     "text": [
      "Model: \"sequential_2\"\n",
      "_________________________________________________________________\n",
      "Layer (type)                 Output Shape              Param #   \n",
      "=================================================================\n",
      "embedding_1 (Embedding)      (None, 50, 50)            1350      \n",
      "_________________________________________________________________\n",
      "gru_1 (GRU)                  (None, 150)               90900     \n",
      "_________________________________________________________________\n",
      "dense (Dense)                (None, 27)                4077      \n",
      "=================================================================\n",
      "Total params: 96,327\n",
      "Trainable params: 96,327\n",
      "Non-trainable params: 0\n",
      "_________________________________________________________________\n",
      "None\n",
      "Epoch 1/50\n",
      "801/801 [==============================] - 35s 41ms/step - loss: 2.3491 - acc: 0.3078 - val_loss: 2.1791 - val_acc: 0.3482\n",
      "Epoch 2/50\n",
      "801/801 [==============================] - 33s 41ms/step - loss: 2.0383 - acc: 0.3873 - val_loss: 2.0068 - val_acc: 0.4086\n",
      "Epoch 3/50\n",
      "801/801 [==============================] - 33s 41ms/step - loss: 1.8926 - acc: 0.4271 - val_loss: 1.8722 - val_acc: 0.4280\n",
      "Epoch 4/50\n",
      "801/801 [==============================] - 33s 41ms/step - loss: 1.7752 - acc: 0.4644 - val_loss: 1.7956 - val_acc: 0.4582\n",
      "Epoch 5/50\n",
      "801/801 [==============================] - 33s 41ms/step - loss: 1.6811 - acc: 0.4871 - val_loss: 1.7324 - val_acc: 0.4754\n",
      "Epoch 6/50\n",
      "801/801 [==============================] - 33s 41ms/step - loss: 1.6007 - acc: 0.5112 - val_loss: 1.6888 - val_acc: 0.4881\n",
      "Epoch 7/50\n",
      "801/801 [==============================] - 33s 41ms/step - loss: 1.5357 - acc: 0.5309 - val_loss: 1.6508 - val_acc: 0.5056\n",
      "Epoch 8/50\n",
      "801/801 [==============================] - 33s 41ms/step - loss: 1.4846 - acc: 0.5405 - val_loss: 1.6287 - val_acc: 0.5053\n",
      "Epoch 9/50\n",
      "801/801 [==============================] - 33s 42ms/step - loss: 1.4379 - acc: 0.5556 - val_loss: 1.6142 - val_acc: 0.5214\n",
      "Epoch 10/50\n",
      "801/801 [==============================] - 34s 42ms/step - loss: 1.3989 - acc: 0.5671 - val_loss: 1.6099 - val_acc: 0.5232\n",
      "Epoch 11/50\n",
      "801/801 [==============================] - 33s 41ms/step - loss: 1.3621 - acc: 0.5752 - val_loss: 1.5927 - val_acc: 0.5249\n",
      "Epoch 12/50\n",
      "801/801 [==============================] - 33s 41ms/step - loss: 1.3327 - acc: 0.5833 - val_loss: 1.5883 - val_acc: 0.5249\n",
      "Epoch 13/50\n",
      "801/801 [==============================] - 33s 41ms/step - loss: 1.3022 - acc: 0.5916 - val_loss: 1.5904 - val_acc: 0.5313\n",
      "Epoch 14/50\n",
      "801/801 [==============================] - 33s 41ms/step - loss: 1.2791 - acc: 0.5971 - val_loss: 1.5975 - val_acc: 0.5341\n",
      "Epoch 15/50\n",
      "801/801 [==============================] - 33s 41ms/step - loss: 1.2565 - acc: 0.6024 - val_loss: 1.5801 - val_acc: 0.5397\n",
      "Epoch 16/50\n",
      "801/801 [==============================] - 33s 41ms/step - loss: 1.2355 - acc: 0.6072 - val_loss: 1.5962 - val_acc: 0.5436\n",
      "Epoch 17/50\n",
      "801/801 [==============================] - 33s 41ms/step - loss: 1.2172 - acc: 0.6139 - val_loss: 1.5910 - val_acc: 0.5365\n",
      "Epoch 18/50\n",
      "801/801 [==============================] - 33s 41ms/step - loss: 1.2045 - acc: 0.6182 - val_loss: 1.5964 - val_acc: 0.5330\n",
      "Epoch 19/50\n",
      "801/801 [==============================] - 33s 41ms/step - loss: 1.1874 - acc: 0.6218 - val_loss: 1.5938 - val_acc: 0.5485\n",
      "INFO:tensorflow:Assets written to: C:\\Users\\SALEHA~1\\AppData\\Local\\Temp\\tmpfi1x6vlq\\model\\data\\model\\assets\n"
     ]
    },
    {
     "data": {
      "text/plain": [
       "<keras.callbacks.History at 0x27314f02e80>"
      ]
     },
     "execution_count": 31,
     "metadata": {},
     "output_type": "execute_result"
    }
   ],
   "source": [
    "output_length = 50\n",
    "\n",
    "model = Sequential()\n",
    "model.add(Embedding(vocab_size, output_length, input_length=sequence_length, trainable=True))\n",
    "model.add(GRU(150, recurrent_dropout=0.1, dropout=0.1))\n",
    "model.add(Dense(vocab_size, activation='softmax'))\n",
    "print(model.summary())\n",
    "\n",
    "my_callbacks = [\n",
    "    EarlyStopping(patience=4),\n",
    "]\n",
    "\n",
    "# Compile the model\n",
    "model.compile(loss='categorical_crossentropy', metrics=['acc'], optimizer='adam')\n",
    "\n",
    "# Log in mlflow\n",
    "mlflow.keras.autolog()\n",
    "\n",
    "# Fit the model\n",
    "model.fit(X_tr, y_tr, epochs=50, verbose=1, validation_data=(X_val, y_val), callbacks=my_callbacks)"
   ]
  },
  {
   "cell_type": "markdown",
   "metadata": {},
   "source": [
    "### Save the Model:"
   ]
  },
  {
   "cell_type": "code",
   "execution_count": 32,
   "metadata": {},
   "outputs": [],
   "source": [
    "from keras.models import save_model\n",
    "model.save('models/model.h5')\n"
   ]
  },
  {
   "cell_type": "code",
   "execution_count": 33,
   "metadata": {},
   "outputs": [],
   "source": [
    "from keras.models import load_model\n",
    "\n",
    "loaded_model = load_model('models/model.h5')"
   ]
  },
  {
   "cell_type": "markdown",
   "metadata": {},
   "source": [
    "### Inference via the model to generate new text:"
   ]
  },
  {
   "cell_type": "code",
   "execution_count": 39,
   "metadata": {},
   "outputs": [],
   "source": [
    "def new_sequence_generator(model, character_map, seq_length, seed_text, num_characters):\n",
    "    \n",
    "    generated_text = seed_text\n",
    "    \n",
    "    for _ in range(num_characters):\n",
    "        encoded_chars = [character_map[character] for character in generated_text]\n",
    "        \n",
    "        encoded_chars = pad_sequences([encoded_chars], maxlen = seq_length, truncating = 'pre')\n",
    "        \n",
    "        pred_x = model.predict(encoded_chars)\n",
    "        \n",
    "        y_out = np.argmax(pred_x, axis = 1)\n",
    "        \n",
    "        out_char = \"\"\n",
    "        \n",
    "        for char, idx in character_map.items():\n",
    "            if idx == y_out:\n",
    "                    out_char = char\n",
    "                    break\n",
    "        generated_text += char\n",
    "        \n",
    "    return generated_text"
   ]
  },
  {
   "cell_type": "code",
   "execution_count": 41,
   "metadata": {},
   "outputs": [
    {
     "data": {
      "text/plain": [
       "'i am opposed to about the gaffer dinner said said gandalf many you and the gaffer dinner said said gandalf many you '"
      ]
     },
     "execution_count": 41,
     "metadata": {},
     "output_type": "execute_result"
    }
   ],
   "source": [
    "input = \"I am opposed to \"\n",
    "new_sequence_generator(model, character_map, 30, input.lower(), 100)"
   ]
  },
  {
   "cell_type": "code",
   "execution_count": 51,
   "metadata": {},
   "outputs": [
    {
     "data": {
      "text/plain": [
       "'i am opposed to about the gaffer dinner said said gandalf many you'"
      ]
     },
     "execution_count": 51,
     "metadata": {},
     "output_type": "execute_result"
    }
   ],
   "source": [
    "input = \"I am opposed to \"\n",
    "new_sequence_generator(loaded_model, character_map, 30, input.lower(), 50)"
   ]
  },
  {
   "cell_type": "code",
   "execution_count": null,
   "metadata": {},
   "outputs": [],
   "source": []
  }
 ],
 "metadata": {
  "kernelspec": {
   "display_name": "Python 3",
   "language": "python",
   "name": "python3"
  },
  "language_info": {
   "codemirror_mode": {
    "name": "ipython",
    "version": 3
   },
   "file_extension": ".py",
   "mimetype": "text/x-python",
   "name": "python",
   "nbconvert_exporter": "python",
   "pygments_lexer": "ipython3",
   "version": "3.8.5"
  }
 },
 "nbformat": 4,
 "nbformat_minor": 4
}
